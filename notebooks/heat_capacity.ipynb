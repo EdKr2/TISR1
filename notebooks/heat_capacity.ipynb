{
 "cells": [
  {
   "cell_type": "markdown",
   "metadata": {},
   "source": [
    "$$\n",
    "H = M \\beta \\frac{\\sum \\limits_{i \\alpha} U_{i \\alpha} W_{i \\alpha} c^i}{\\sum \\limits_{i \\alpha} W_{i \\alpha} c^j}; \\quad W_{i \\alpha} = \\exp(- \\frac{\\beta U_{i \\alpha}}{\\theta \\gamma}); \\quad \\frac{\\partial W_{i \\alpha}}{\\partial \\theta} = \\frac{\\beta U_{i \\alpha}}{\\gamma \\theta^2}W_{i \\alpha}\n",
    "$$"
   ]
  },
  {
   "cell_type": "markdown",
   "metadata": {},
   "source": [
    "\\begin{align}\n",
    "\\frac{\\partial H}{\\partial \\theta} &=  M \\beta \\frac {\\sum\\limits_{i \\alpha} c^i U_{i \\alpha} {\\partial W_{i \\alpha}}/{\\partial \\theta} \\sum\\limits_j c^j W_j - \\sum\\limits_i c^i {\\partial W_i}/{\\partial \\theta} \\sum\\limits_{i \\alpha} U_{i \\alpha}  W_{i \\alpha}  c^i}{(\\sum\\limits_j c^j W_j)^2}\\\\\n",
    "&= \\frac{M \\beta^2}{\\gamma \\theta^2} \\frac {\\sum\\limits_{i \\alpha} c^i U_{i \\alpha}^2  W_{i \\alpha} \\sum\\limits_j c^j W_j - \\sum\\limits_{i \\alpha} c^i U_{i \\alpha} W_{i \\alpha} \\sum\\limits_{j \\delta} U_{j \\delta}  W_{j \\delta}  c^i}{(\\sum\\limits_j c^j W_j)^2}\\\\\n",
    "&= \\frac{M \\beta^2}{\\gamma \\theta^2} \\frac{\\sum\\limits_{i \\alpha} \\sum\\limits_{j \\delta} c^{i+j} W_{i \\alpha} W_{j \\delta}  (U_{i \\alpha}^2 - U_{i \\alpha}U_{j \\delta} )}{(\\sum\\limits_j c^j W_j)^2}\n",
    "= \\frac{M \\beta^2}{\\gamma \\theta^2} \\frac{\\sum\\limits_{i \\alpha} \\sum\\limits_{j \\delta} c^{i+j} W_{i \\alpha} W_{j \\delta}  (U_{j \\delta}^2 - U_{i \\alpha}U_{j \\delta} )}{(\\sum\\limits_j c^j W_j)^2}\\\\\n",
    "&= \\frac{M \\beta^2}{2 \\gamma \\theta^2} \\frac{\\sum\\limits_{i \\alpha} \\sum\\limits_{j \\delta} c^{i+j} W_{i \\alpha} W_{j \\delta}  (U_{j \\delta} - U_{i \\alpha} )^2}{(\\sum\\limits_j c^j W_j)^2}\n",
    "\\end{align}"
   ]
  },
  {
   "cell_type": "markdown",
   "metadata": {},
   "source": [
    "\\begin{align}\n",
    "\\frac{\\partial H}{\\partial c} &= M \\beta \\frac{\\sum\\limits_{i \\alpha} i c^{i-1} U_{i \\alpha} W_{i \\alpha} \\sum\\limits_{j \\delta} c^j W_{j \\delta} - \\sum\\limits_{i \\alpha} c^i  U_{i \\alpha} W_{i \\alpha} \\sum\\limits_{j \\delta} j c^{j-1} W_{j \\delta} }{(\\sum\\limits_j c^j W_j)^2}\\\\\n",
    "&= M \\beta \\frac{\\sum\\limits_{i \\alpha} \\sum\\limits_{j \\delta} U_{i \\alpha} W_{i \\alpha} W_{j \\delta} c^{i+j-1} (i-j)}{(\\sum\\limits_j c^j W_j)^2}\n",
    "= M \\beta \\frac{\\sum\\limits_{i \\alpha} \\sum\\limits_{j \\delta} U_{j \\delta} W_{i \\alpha} W_{j \\delta} c^{i+j-1} (j-i)}{(\\sum\\limits_j c^j W_j)^2}\\\\\n",
    "&= \\frac{M \\beta}{2} \\frac{\\sum\\limits_{i \\alpha} \\sum\\limits_{j \\delta}  W_{i \\alpha} W_{j \\delta} c^{i+j-1} (i-j)(U_{i \\alpha} - U_{j \\delta})}{(\\sum\\limits_j c^j W_j)^2}\n",
    "\\end{align}\n"
   ]
  },
  {
   "cell_type": "markdown",
   "metadata": {},
   "source": [
    "$$ x_1 = \\frac{\\sum\\limits_i i c^i W_i}{k \\sum\\limits_j c^j W_j}    $$"
   ]
  },
  {
   "cell_type": "markdown",
   "metadata": {},
   "source": [
    "\\begin{align}\n",
    "\\frac{\\partial x1}{\\partial \\theta} &=  \\frac{\\sum\\limits_i i c^i \\partial W_i/\\partial \\theta \\sum\\limits_j c^j W_j - \\sum\\limits_j j c^j W_j \\sum\\limits_i c^i \\partial W_i/\\partial \\theta}{k (\\sum\\limits_j c^j W_j )^2} \\\\\n",
    "&=  \\frac{\\sum\\limits_{i \\alpha} i c^i \\partial W_{i \\alpha}/\\partial \\theta \\sum\\limits_{j \\delta} c^j W_{j \\delta} - \\sum\\limits_{j \\delta} j c^j W_{j \\delta} \\sum\\limits_{i \\alpha} c^i \\partial W_{i \\alpha}/\\partial \\theta}{k(\\sum\\limits_j c^j W_{j \\delta} )^2 } \\\\\n",
    "&= \\frac{\\beta}{\\gamma \\theta^2} \\frac{\\sum\\limits_{i \\alpha} \\sum\\limits_{j \\delta}(i-j) c^{i+j} U_{i \\alpha} W_{i \\alpha}  W_{j \\delta}  }{k(\\sum\\limits_j c^j W_j )^2 } \\\\\n",
    "&= \\frac{\\beta}{2 \\gamma \\theta^2} \\frac{\\sum\\limits_{i \\alpha} \\sum\\limits_{j \\delta}(i-j) c^{i+j} (U_{i \\alpha} - U_{j \\delta})W_{i \\alpha}  W_{j \\delta}  }{k(\\sum\\limits_j c^j W_j )^2 } \n",
    "\\end{align}"
   ]
  },
  {
   "cell_type": "markdown",
   "metadata": {},
   "source": [
    "\\begin{align}\n",
    "\\frac{\\partial x1}{\\partial c} &= \\frac{\\sum\\limits_{i j} (i^2-i*j) W_i W_j c^{i+j-1} }{k(\\sum\\limits_j c^j W_j)^2} = \n",
    "\\frac{1}{2}\\frac{\\sum\\limits_{i j} (i-j)^2 W_i W_j c^{i+j-1} }{k(\\sum\\limits_j c^j W_j)^2}\\\\\n",
    "\\frac{dc}{d \\theta} &= - \\frac{\\partial x1}{\\partial \\theta} / \\frac{\\partial x1}{\\partial c} = -\\frac{\\beta}{ \\gamma \\theta^2} \\frac{\\sum\\limits_{i \\alpha} \\sum\\limits_{j \\delta}(i-j) c^{i+j} (U_{i \\alpha} - U_{j \\delta})W_{i \\alpha}  W_{j \\delta}  }{\\sum\\limits_{i j} (i-j)^2 W_i W_j c^{i+j-1} }\n",
    "\\end{align}"
   ]
  },
  {
   "cell_type": "markdown",
   "metadata": {},
   "source": [
    "Now we consider FCC case with tetrahedron as cell. In this case $U_{i \\alpha}$ and $W_{i \\alpha}$ do not depend on $\\alpha$:\n",
    "$$\n",
    "U_{i \\alpha} \\equiv U_i; \\quad W_i = \\sum_i W_{i \\alpha} = {k \\choose i} W_{i 1} = {k \\choose i} \\exp(- \\frac{\\beta U_i}{\\gamma \\theta})\n",
    "$$"
   ]
  },
  {
   "cell_type": "markdown",
   "metadata": {},
   "source": [
    "Enthalpy (from TISR_p1):\n",
    "$$\n",
    "H = M \\beta \\frac{\\sum\\limits_i U_i W_i c^i}{\\sum\\limits_j W_j c^j}; \\quad \\frac{\\partial H}{\\partial \\theta} =  \\frac{M \\beta^2}{2 \\gamma \\theta^2} \\frac{\\sum\\limits_i \\sum\\limits_j c^{i+j} W_i W_j  (U_j - U_i )^2}{(\\sum\\limits_j c^j W_j)^2}; \\quad \\frac{\\partial H}{\\partial c} =  \\frac{M \\beta}{2} \\frac{\\sum\\limits_i \\sum\\limits_j  W_i W_j c^{i+j-1} (i-j)(U_i - U_j)}{(\\sum\\limits_j c^j W_j)^2}\n",
    "$$"
   ]
  },
  {
   "cell_type": "markdown",
   "metadata": {},
   "source": [
    "\\begin{align}\n",
    "x_1 = \\frac{\\sum\\limits_i i c^i W_i}{k \\sum\\limits_j c^j W_j} ; \\qquad \n",
    "\\frac{\\partial x1}{\\partial \\theta} \n",
    "&= \\frac{\\beta}{2 \\gamma \\theta^2} \\frac{\\sum\\limits_i \\sum\\limits_j(i-j) c^{i+j} (U_i - U_j)W_i  W_j  }{k(\\sum\\limits_j c^j W_j )^2 } ; \\quad \n",
    "\\frac{\\partial x1}{\\partial c}  = \n",
    "\\frac{1}{2}\\frac{\\sum\\limits_{i j} (i-j)^2 W_i W_j c^{i+j-1} }{k(\\sum\\limits_j c^j W_j)^2}\\\\\n",
    "\\frac{dc}{d \\theta} &= - \\frac{\\partial x1}{\\partial \\theta} / \\frac{\\partial x1}{\\partial c} \n",
    "= -\\frac{\\beta}{ \\gamma \\theta^2} \\frac{\\sum\\limits_i \\sum\\limits_j(i-j) c^{i+j} (U_i - U_j)W_i  W_j  }{\\sum\\limits_{i j} (i-j)^2 W_i W_j c^{i+j-1} }\n",
    "\\end{align}"
   ]
  },
  {
   "cell_type": "markdown",
   "metadata": {},
   "source": [
    "\\begin{align}\n",
    "cW = \\sum\\limits_i c^i W_i; \\quad xW = \\sum\\limits_i i c^i W_i; \\quad x2W = \\sum\\limits_i i i c^i W_i; \\quad UW = \\sum\\limits_i c^i U_i W_i; \\quad U2W = \\sum\\limits_i c^i U_i U_i W_i; \\quad xUW = \\sum\\limits_i i c^i U_i W_i; \n",
    "\\end{align}"
   ]
  },
  {
   "cell_type": "markdown",
   "metadata": {},
   "source": [
    "\\begin{align}\n",
    "H = M \\beta \\frac{UW}{cW}; \\quad \\frac{\\partial H}{\\partial \\theta} = \\frac{M \\beta^2}{\\gamma \\theta^2} \\frac{(U2W)(cW) - (UW)^2}{(cW)^2}; \\quad \\frac{\\partial H}{\\partial c} = M \\beta \\frac{(xUW)(cW) - (UW)(xW)}{c (cW)^2}\n",
    "\\end{align}"
   ]
  },
  {
   "cell_type": "markdown",
   "metadata": {},
   "source": [
    "$$ x1 = \\frac{xW}{k (cW)}; \\quad \\frac{dc}{d \\theta} = - \\frac{c \\beta}{\\gamma \\theta^2} \\frac{(xUW)(cW) - (UW)(xW)}{(x2W)(cW) - (xW)^2}\n",
    "$$"
   ]
  },
  {
   "cell_type": "markdown",
   "metadata": {},
   "source": [
    "$$\n",
    "\\sum_{i=0}^{n} \\left(a + m x{\\left (i \\right )} - y{\\left (i \\right )}\\right)^{2}\n",
    "$$"
   ]
  },
  {
   "cell_type": "code",
   "execution_count": 10,
   "metadata": {},
   "outputs": [],
   "source": [
    "import numpy as np\n",
    "import ipywidgets as wdg\n",
    "import matplotlib.pyplot as plt\n"
   ]
  },
  {
   "cell_type": "code",
   "execution_count": 11,
   "metadata": {},
   "outputs": [
    {
     "data": {
      "text/plain": [
       "(array([  0,  60, 120, 120,   0]),\n",
       " array([ 0.   ,  0.006,  0.012,  0.012,  0.   ]),\n",
       " array([ 1.        ,  3.97607186,  5.92843028,  3.95228685,  1.        ]))"
      ]
     },
     "execution_count": 11,
     "metadata": {},
     "output_type": "execute_result"
    }
   ],
   "source": [
    "z,k, m, beta = 12, 4, 6, 4\n",
    "gamma = 4.\n",
    "#theta = 10\n",
    "I = ([0,1,2,3,4])\n",
    "Cki = np.array([1,4,6,4,1])                          #combinatoric coeff\n",
    "\n",
    "cW = np.array([1,1,1,1,1])\n",
    "def fUW(U1, U2, U3, theta):\n",
    "#    print(U1, U2, U3)\n",
    "#    U2T[1] = 3*U1; U2T[2] = 4*U2; U2T[3] = 3*U3\n",
    "    U = np.array([0, 3*U1, 4*U2, 3*U3, 0]) \n",
    "    U2T = U / theta\n",
    "    W = np.exp( - U2T * beta / gamma)\n",
    "    W = W*Cki\n",
    "#    print(U2T)\n",
    "    return U, U2T, W\n",
    "U, U2T, W = fUW(20,30,40, 10000)                                   # instead of U using U2T = U / theta\n",
    "U, U2T, W"
   ]
  },
  {
   "cell_type": "code",
   "execution_count": 12,
   "metadata": {},
   "outputs": [
    {
     "data": {
      "image/png": "[encoded data removed]",
      "text/latex": [
       "$$\\left ( 1.58411640602e-05, \\quad 89.819595138\\right )$$"
      ],
      "text/plain": [
       "(1.58411640602e-05, 89.819595138)"
      ]
     },
     "execution_count": 12,
     "metadata": {},
     "output_type": "execute_result"
    }
   ],
   "source": [
    "def cp(c, u, U2T, W):\n",
    "    ci = ([1,1,1,1,1])\n",
    "    ci[1] = c;     ci[2] = c*ci[1]  ;  ci[3] = c*ci[2];    ci[4] = c*ci[3]\n",
    "    cW = ci*W; xW = I*cW; x2W = I*xW; UW = U2T*cW; uW = u*cW; U2W = U2T*UW; xUW = I*UW\n",
    "    scW = np.sum(cW); sxW = np.sum(xW); sx2W = np.sum(x2W); sUW = np.sum(UW); suW = np.sum(uW); sU2W = np.sum(U2W);  sxUW = np.sum(xUW)\n",
    "    dHdT = beta*beta / k / gamma *(sU2W*scW - sUW*sUW) / scW /scW\n",
    "    dHdc = beta / k *(sxUW*scW - sUW*sxW )/scW/scW                                 # divided by theta & multiplied by c\n",
    "    dcdT = - beta/gamma * (sxUW*scW - sUW*sxW )/(sx2W*scW - sxW*sxW)               # divided by c\n",
    "    Cp = dHdT + dHdc*dcdT; x1 = sxW / scW / k\n",
    "    H = beta / k * suW / scW                                                       # using U rather than u/theta\n",
    "#    print(W, U2W, UW,U2W,sUW,sU2W)\n",
    "#    print (ci, W, cW, xW, x2W, UW, U2W, xUW, scW, sxW, sx2W, sUW, sU2W, sxUW, Cp, x1, dHdT, dcdT, H)\n",
    "    return Cp, H\n",
    "\n",
    "U, U2T, W = fUW(20,30,40, 10000)   \n",
    "cp(1,U, U2T, W)"
   ]
  },
  {
   "cell_type": "code",
   "execution_count": 13,
   "metadata": {},
   "outputs": [
    {
     "data": {
      "application/vnd.jupyter.widget-view+json": {
       "model_id": "7932ee2e4c5243fa952871f052d45909",
       "version_major": 2,
       "version_minor": 0
      },
      "text/plain": [
       "interactive(children=(FloatSlider(value=2.0001, description='U1', max=10.0001, min=-2.9999), FloatSlider(value…"
      ]
     },
     "metadata": {},
     "output_type": "display_data"
    }
   ],
   "source": [
    "from scipy.optimize import fsolve\n",
    "def c2x1(c, *extr):\n",
    "    ci = ([1,1,1,1,1])\n",
    "    x1, W = extr\n",
    "    ci[1] = c;     ci[2] = c*ci[1]  ;  ci[3] = c*ci[2];    ci[4] = c*ci[3]\n",
    "    cW = ci*W; xW = I*cW; scW = np.sum(cW); sxW = np.sum(xW)\n",
    "    return sxW / scW / k - x1\n",
    "\n",
    "def x1_c(c2x1, x1, W):\n",
    "    c = x1 / (1-x1)\n",
    "    return fsolve(c2x1, c, (x1, W))\n",
    "\n",
    "x1 = 0.5\n",
    "TT = np.linspace(.1001, 11.0001, 101)\n",
    "HH = np.zeros(100)\n",
    "CCp = np.zeros(100)\n",
    "xT = np.zeros(100)\n",
    "#print(TT)\n",
    "def HCp(U1,U2,U3):\n",
    "   \n",
    "    for i in np.arange(100):\n",
    "        u, U2T, W = fUW(U1,U2,U3, TT[i])  \n",
    "        ([c])=x1_c(c2x1, x1, W)\n",
    "        (CCp[i], HH[i]) = cp(c, u, U2T, W)\n",
    "        xT[i] = TT[i]\n",
    "#        print(i, c, xT[i], CCp[i], HH[i], W, U2T)\n",
    "\n",
    "    fig = plt.figure(figsize=(5,10))\n",
    "    fig.add_subplot(211)\n",
    "    plt.plot(xT, HH)\n",
    "    plt.xlim(0,10)\n",
    "    plt.ylabel(r'H',fontsize=15 );\n",
    "    fig.add_subplot(212)\n",
    "    plt.plot(xT, CCp)\n",
    "#     plt.plot(y1_1, fy*0, linewidth = 1)\n",
    "#     plt.ylim(-1, 1)\n",
    "    plt.xlim(0,10)\n",
    "    plt.xlabel(r'T',fontsize=15 );\n",
    "    plt.ylabel(r'$C_v$',fontsize=15 );\n",
    "    plt.show()\n",
    "    fig.savefig('E:\\\\GIT\\\\TISR1\\\\notebooks\\\\heat_capacity.pdf', format='pdf', dpi=1200, bbox_inches='tight') \n",
    "    \n",
    "    print(U2T)\n",
    "\n",
    "#print(b1_min0, b1_max0)\n",
    "U1 = wdg.FloatSlider(min=-2.9999, max=10.0001, value = 2.0001 )\n",
    "U2 = wdg.FloatSlider(min=-2.9999, max=10.0001, value = 2.0001 )\n",
    "U3 = wdg.FloatSlider(min=-2.9999, max=10.0001, value = 2.0001 )\n",
    "wdg.interactive(HCp, U1=U1,U2=U2,U3=U3)\n",
    "#cp(1, 0.5)"
   ]
  },
  {
   "cell_type": "code",
   "execution_count": 14,
   "metadata": {},
   "outputs": [],
   "source": [
    "#print(HH, CCp)\n"
   ]
  },
  {
   "cell_type": "code",
   "execution_count": 15,
   "metadata": {},
   "outputs": [
    {
     "data": {
      "image/png": "[encoded data removed]",
      "text/latex": [
       "$$0.0810906315841$$"
      ],
      "text/plain": [
       "0.081090631584073147"
      ]
     },
     "execution_count": 15,
     "metadata": {},
     "output_type": "execute_result"
    }
   ],
   "source": [
    "c2x1(0.61782945, 0.3, W)"
   ]
  },
  {
   "cell_type": "code",
   "execution_count": null,
   "metadata": {},
   "outputs": [],
   "source": []
  }
 ],
 "metadata": {
  "kernelspec": {
   "display_name": "Python 3",
   "language": "python",
   "name": "python3"
  },
  "language_info": {
   "codemirror_mode": {
    "name": "ipython",
    "version": 3
   },
   "file_extension": ".py",
   "mimetype": "text/x-python",
   "name": "python",
   "nbconvert_exporter": "python",
   "pygments_lexer": "ipython3",
   "version": "3.5.6"
  }
 },
 "nbformat": 4,
 "nbformat_minor": 4
}
